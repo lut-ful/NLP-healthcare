{
 "cells": [
  {
   "cell_type": "code",
   "execution_count": 1,
   "id": "0106800f",
   "metadata": {},
   "outputs": [],
   "source": [
    "import pandas as pd\n",
    "full_data=pd.read_csv(r\"MeDAL\\full_data.csv\")\n",
    "test_data=pd.read_csv(r\"MeDAL\\pretrain_subset\\test.csv\")\n",
    "train_data=pd.read_csv(r\"MeDAL\\pretrain_subset\\train.csv\") \n",
    "valid_data=pd.read_csv(r\"MeDAL\\pretrain_subset\\valid.csv\")  "
   ]
  },
  {
   "cell_type": "code",
   "execution_count": 2,
   "id": "05a626c4",
   "metadata": {},
   "outputs": [
    {
     "name": "stdout",
     "output_type": "stream",
     "text": [
      "(14393619, 3)\n",
      "(1000000, 4)\n",
      "(3000000, 4)\n"
     ]
    }
   ],
   "source": [
    "print(full_data.shape)\n",
    "print(test_data.shape)\n",
    "print(train_data.shape) "
   ]
  },
  {
   "cell_type": "code",
   "execution_count": 3,
   "id": "f319053b",
   "metadata": {},
   "outputs": [
    {
     "name": "stdout",
     "output_type": "stream",
     "text": [
      "Smaller datasets saved to 'smaller_datasets' folder\n"
     ]
    }
   ],
   "source": [
    "import os\n",
    "\n",
    "# Create a directory to store smaller dataframes if it doesn't exist\n",
    "os.makedirs('smaller_datasets', exist_ok=True)\n",
    "\n",
    "# Take first 1000 rows from full_data\n",
    "full_data_small = full_data.head(1000)\n",
    "\n",
    "# Take first 10000 rows from train_data\n",
    "train_data_small = train_data.head(10000)\n",
    "\n",
    "# Take first 1000 rows from test_data and valid_data\n",
    "test_data_small = test_data.head(1000)\n",
    "valid_data_small = valid_data.head(1000)\n",
    "\n",
    "# Save the smaller dataframes to CSV files\n",
    "full_data_small.to_csv('smaller_datasets/full_data_small.csv', index=False)\n",
    "train_data_small.to_csv('smaller_datasets/train_data_small.csv', index=False)\n",
    "test_data_small.to_csv('smaller_datasets/test_data_small.csv', index=False)\n",
    "valid_data_small.to_csv('smaller_datasets/valid_data_small.csv', index=False)\n",
    "\n",
    "print(\"Smaller datasets saved to 'smaller_datasets' folder\")"
   ]
  }
 ],
 "metadata": {
  "kernelspec": {
   "display_name": "MLenv",
   "language": "python",
   "name": "python3"
  },
  "language_info": {
   "codemirror_mode": {
    "name": "ipython",
    "version": 3
   },
   "file_extension": ".py",
   "mimetype": "text/x-python",
   "name": "python",
   "nbconvert_exporter": "python",
   "pygments_lexer": "ipython3",
   "version": "3.12.7"
  }
 },
 "nbformat": 4,
 "nbformat_minor": 5
}
