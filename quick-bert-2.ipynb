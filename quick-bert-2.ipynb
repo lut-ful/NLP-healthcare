{
 "cells": [
  {
   "cell_type": "code",
   "execution_count": 33,
   "id": "d26cb36b-2bfe-48ee-98b0-9bb90e9e2c01",
   "metadata": {
    "execution": {
     "iopub.execute_input": "2025-09-08T20:09:03.981433Z",
     "iopub.status.busy": "2025-09-08T20:09:03.981149Z",
     "iopub.status.idle": "2025-09-08T20:11:25.867774Z",
     "shell.execute_reply": "2025-09-08T20:11:25.867148Z",
     "shell.execute_reply.started": "2025-09-08T20:09:03.981408Z"
    },
    "trusted": true
   },
   "outputs": [],
   "source": [
    "import pandas as pd\n",
    "from datasets import Dataset\n",
    "\n",
    "# train_data = Dataset.from_pandas(pd.read_csv(r\"MeDAL\\pretrain_subset\\train.csv\"))\n",
    "# # valid_data = Dataset.from_pandas(pd.read_csv(\"/kaggle/input/medal-emnlp/pretrain_subset/valid.csv\"))\n",
    "# test_data  = Dataset.from_pandas(pd.read_csv(r\"MeDAL\\pretrain_subset\\test.csv\"))\n",
    "\n",
    "# Read only a small subset of the data for faster processing\n",
    "train_df = pd.read_csv(\n",
    "    r\"MeDAL\\pretrain_subset\\train.csv\", nrows=1000\n",
    ")  # Only read 1000 rows\n",
    "train_data = Dataset.from_pandas(train_df)\n",
    "\n",
    "# valid_data = Dataset.from_pandas(pd.read_csv(\"/kaggle/input/medal-emnlp/pretrain_subset/valid.csv\"))\n",
    "\n",
    "test_df = pd.read_csv(\n",
    "    r\"MeDAL\\pretrain_subset\\test.csv\", nrows=500\n",
    ")  # Only read 500 rows\n",
    "test_data = Dataset.from_pandas(test_df)\n",
    "\n",
    "# print(f\"Train data size: {len(train_data)}\")\n",
    "# print(f\"Test data size: {len(test_data)}\")"
   ]
  },
  {
   "cell_type": "code",
   "execution_count": 40,
   "id": "6b23f0b8",
   "metadata": {},
   "outputs": [],
   "source": [
    "# Label encoding: map each unique string label to an integer\n",
    "from sklearn.preprocessing import LabelEncoder\n",
    "import numpy as np\n",
    "\n",
    "# Combine all labels from train and test to fit the encoder\n",
    "all_labels = np.concatenate([train_df[\"LABEL\"].values, test_df[\"LABEL\"].values])\n",
    "label_encoder = LabelEncoder()\n",
    "label_encoder.fit(all_labels)\n",
    "\n",
    "# Transform train and test labels\n",
    "train_df[\"LABEL_ID\"] = label_encoder.transform(train_df[\"LABEL\"])\n",
    "test_df[\"LABEL_ID\"] = label_encoder.transform(test_df[\"LABEL\"])\n",
    "\n",
    "# Save mapping for later use\n",
    "id2label = {i: l for i, l in enumerate(label_encoder.classes_)}\n",
    "label2id = {l: i for i, l in id2label.items()}  # Correct mapping direction\n",
    "\n",
    "# Update datasets to use LABEL_ID\n",
    "train_data = Dataset.from_pandas(train_df)\n",
    "test_data = Dataset.from_pandas(test_df)"
   ]
  },
  {
   "cell_type": "code",
   "execution_count": 42,
   "id": "2cab4174",
   "metadata": {
    "execution": {
     "iopub.execute_input": "2025-09-08T20:11:25.872370Z",
     "iopub.status.busy": "2025-09-08T20:11:25.871798Z",
     "iopub.status.idle": "2025-09-08T20:11:52.358900Z",
     "shell.execute_reply": "2025-09-08T20:11:52.358317Z",
     "shell.execute_reply.started": "2025-09-08T20:11:25.872350Z"
    },
    "trusted": true
   },
   "outputs": [],
   "source": [
    "from transformers import (\n",
    "    AutoTokenizer,\n",
    "    AutoModelForSequenceClassification,\n",
    "    Trainer,\n",
    "    TrainingArguments,\n",
    "    DataCollatorWithPadding,\n",
    ")\n",
    "import torch\n",
    "from datasets import Dataset\n",
    "import evaluate"
   ]
  },
  {
   "cell_type": "code",
   "execution_count": 41,
   "id": "0d550b74",
   "metadata": {
    "execution": {
     "iopub.execute_input": "2025-09-08T20:14:48.715290Z",
     "iopub.status.busy": "2025-09-08T20:14:48.714942Z",
     "iopub.status.idle": "2025-09-08T20:14:49.107517Z",
     "shell.execute_reply": "2025-09-08T20:14:49.106682Z",
     "shell.execute_reply.started": "2025-09-08T20:14:48.715263Z"
    },
    "trusted": true
   },
   "outputs": [
    {
     "data": {
      "application/vnd.jupyter.widget-view+json": {
       "model_id": "ad85719c1e9c4e6a9917e79c35d7e4fb",
       "version_major": 2,
       "version_minor": 0
      },
      "text/plain": [
       "Map:   0%|          | 0/100 [00:00<?, ? examples/s]"
      ]
     },
     "metadata": {},
     "output_type": "display_data"
    },
    {
     "data": {
      "application/vnd.jupyter.widget-view+json": {
       "model_id": "cd7d73355c86430eb34ed63b9afb3d22",
       "version_major": 2,
       "version_minor": 0
      },
      "text/plain": [
       "Map:   0%|          | 0/50 [00:00<?, ? examples/s]"
      ]
     },
     "metadata": {},
     "output_type": "display_data"
    }
   ],
   "source": [
    "# Tokenization\n",
    "model_name = \"bert-base-uncased\"\n",
    "output_dir = \"fine_tuned_medal\"\n",
    "tokenizer = AutoTokenizer.from_pretrained(model_name)\n",
    "\n",
    "\n",
    "# When using batched=False, each example is a dict, so LABEL_ID should be an int\n",
    "def tokenize_function(example):\n",
    "    result = tokenizer(\n",
    "        example[\"TEXT\"], truncation=True, padding=\"max_length\", max_length=128\n",
    "    )\n",
    "    # Use LABEL_ID for integer class labels\n",
    "    result[\"labels\"] = int(example[\"LABEL_ID\"])\n",
    "    return result\n",
    "\n",
    "\n",
    "train_subset = train_data.select(range(100))\n",
    "test_subset = test_data.select(range(50))\n",
    "\n",
    "train_tokenized = train_subset.map(\n",
    "    tokenize_function, batched=False, remove_columns=[\"TEXT\", \"LABEL\", \"LABEL_ID\"]\n",
    ")\n",
    "test_tokenized = test_subset.map(\n",
    "    tokenize_function, batched=False, remove_columns=[\"TEXT\", \"LABEL\", \"LABEL_ID\"]\n",
    ")"
   ]
  },
  {
   "cell_type": "code",
   "execution_count": 45,
   "id": "c99d0816-ff0a-40b3-981a-a21255c9ec83",
   "metadata": {
    "execution": {
     "iopub.execute_input": "2025-09-08T20:36:23.505927Z",
     "iopub.status.busy": "2025-09-08T20:36:23.505198Z",
     "iopub.status.idle": "2025-09-08T20:36:23.513012Z",
     "shell.execute_reply": "2025-09-08T20:36:23.512254Z",
     "shell.execute_reply.started": "2025-09-08T20:36:23.505898Z"
    },
    "trusted": true
   },
   "outputs": [],
   "source": [
    "def fine_tune_model(\n",
    "    model_checkpoint,\n",
    "    train_tokenized,\n",
    "    test_tokenized,\n",
    "    output_dir=\"fine_tuned_model\",\n",
    "    epochs=3,\n",
    "    batch_size=16,\n",
    "    num_labels=None,\n",
    "    label_encoder=None,\n",
    "):\n",
    "    # Determine number of labels from label_encoder if not provided\n",
    "    if num_labels is None and label_encoder is not None:\n",
    "        num_labels = len(label_encoder.classes_)\n",
    "    elif num_labels is None:\n",
    "        raise ValueError(\"num_labels must be provided or label_encoder must be passed.\")\n",
    "\n",
    "    # Load model\n",
    "    model = AutoModelForSequenceClassification.from_pretrained(\n",
    "        model_checkpoint, num_labels=num_labels\n",
    "    )\n",
    "    device = torch.device(\"cuda\" if torch.cuda.is_available() else \"cpu\")\n",
    "    model.to(device)\n",
    "\n",
    "    # Data collator\n",
    "    data_collator = DataCollatorWithPadding(tokenizer=tokenizer)\n",
    "\n",
    "    # Metric for evaluation\n",
    "    accuracy_metric = evaluate.load(\"accuracy\")\n",
    "\n",
    "    def compute_metrics(eval_pred):\n",
    "        logits, labels = eval_pred\n",
    "        predictions = logits.argmax(axis=-1)\n",
    "        return accuracy_metric.compute(predictions=predictions, references=labels)\n",
    "\n",
    "    # Training arguments\n",
    "    training_args = TrainingArguments(\n",
    "        output_dir=output_dir,\n",
    "        overwrite_output_dir=True,\n",
    "        eval_strategy=\"epoch\",\n",
    "        save_strategy=\"epoch\",\n",
    "        logging_strategy=\"epoch\",\n",
    "        logging_steps=100,\n",
    "        save_steps=500,\n",
    "        learning_rate=5e-5,\n",
    "        per_device_train_batch_size=batch_size,\n",
    "        per_device_eval_batch_size=batch_size,\n",
    "        num_train_epochs=epochs,\n",
    "        weight_decay=0.01,\n",
    "        load_best_model_at_end=True,\n",
    "        metric_for_best_model=\"accuracy\",\n",
    "        fp16=torch.cuda.is_available(),\n",
    "    )\n",
    "\n",
    "    # Trainer\n",
    "    trainer = Trainer(\n",
    "        model=model,\n",
    "        args=training_args,\n",
    "        train_dataset=train_tokenized,\n",
    "        eval_dataset=test_tokenized,\n",
    "        processing_class=tokenizer,\n",
    "        data_collator=data_collator,\n",
    "        compute_metrics=compute_metrics,\n",
    "    )\n",
    "\n",
    "    print(\"Starting fine-tuning...\")\n",
    "    trainer.train()\n",
    "    print(\"Fine-tuning complete.\")\n",
    "\n",
    "    # Save model + tokenizer\n",
    "    trainer.save_model(output_dir)\n",
    "    tokenizer.save_pretrained(output_dir)\n",
    "\n",
    "    return model, device"
   ]
  },
  {
   "cell_type": "code",
   "execution_count": 46,
   "id": "7dfa8f53",
   "metadata": {
    "execution": {
     "iopub.execute_input": "2025-09-08T20:36:28.694171Z",
     "iopub.status.busy": "2025-09-08T20:36:28.693433Z"
    },
    "trusted": true
   },
   "outputs": [
    {
     "name": "stderr",
     "output_type": "stream",
     "text": [
      "Some weights of BertForSequenceClassification were not initialized from the model checkpoint at bert-base-uncased and are newly initialized: ['classifier.bias', 'classifier.weight']\n",
      "You should probably TRAIN this model on a down-stream task to be able to use it for predictions and inference.\n"
     ]
    },
    {
     "name": "stdout",
     "output_type": "stream",
     "text": [
      "Starting fine-tuning...\n",
      "\n"
     ]
    },
    {
     "data": {
      "text/html": [
       "\n",
       "    <div>\n",
       "      \n",
       "      <progress value='21' max='21' style='width:300px; height:20px; vertical-align: middle;'></progress>\n",
       "      [21/21 05:05, Epoch 3/3]\n",
       "    </div>\n",
       "    <table border=\"1\" class=\"dataframe\">\n",
       "  <thead>\n",
       " <tr style=\"text-align: left;\">\n",
       "      <th>Epoch</th>\n",
       "      <th>Training Loss</th>\n",
       "      <th>Validation Loss</th>\n",
       "      <th>Accuracy</th>\n",
       "    </tr>\n",
       "  </thead>\n",
       "  <tbody>\n",
       "    <tr>\n",
       "      <td>1</td>\n",
       "      <td>7.342500</td>\n",
       "      <td>7.419180</td>\n",
       "      <td>0.000000</td>\n",
       "    </tr>\n",
       "    <tr>\n",
       "      <td>2</td>\n",
       "      <td>7.139600</td>\n",
       "      <td>7.448646</td>\n",
       "      <td>0.000000</td>\n",
       "    </tr>\n",
       "    <tr>\n",
       "      <td>3</td>\n",
       "      <td>7.050500</td>\n",
       "      <td>7.461875</td>\n",
       "      <td>0.000000</td>\n",
       "    </tr>\n",
       "  </tbody>\n",
       "</table><p>"
      ],
      "text/plain": [
       "<IPython.core.display.HTML object>"
      ]
     },
     "metadata": {},
     "output_type": "display_data"
    },
    {
     "name": "stderr",
     "output_type": "stream",
     "text": [
      "c:\\Users\\lutfu\\anaconda3\\envs\\dlmlenv\\Lib\\site-packages\\torch\\utils\\data\\dataloader.py:666: UserWarning: 'pin_memory' argument is set as true but no accelerator is found, then device pinned memory won't be used.\n",
      "  warnings.warn(warn_msg)\n",
      "c:\\Users\\lutfu\\anaconda3\\envs\\dlmlenv\\Lib\\site-packages\\torch\\utils\\data\\dataloader.py:666: UserWarning: 'pin_memory' argument is set as true but no accelerator is found, then device pinned memory won't be used.\n",
      "  warnings.warn(warn_msg)\n",
      "c:\\Users\\lutfu\\anaconda3\\envs\\dlmlenv\\Lib\\site-packages\\torch\\utils\\data\\dataloader.py:666: UserWarning: 'pin_memory' argument is set as true but no accelerator is found, then device pinned memory won't be used.\n",
      "  warnings.warn(warn_msg)\n"
     ]
    },
    {
     "name": "stdout",
     "output_type": "stream",
     "text": [
      "Fine-tuning complete.\n",
      "\n"
     ]
    }
   ],
   "source": [
    "model, device = fine_tune_model(\n",
    "    model_checkpoint=model_name,\n",
    "    train_tokenized=train_tokenized,\n",
    "    test_tokenized=test_tokenized,\n",
    "    output_dir=output_dir,\n",
    "    epochs=3,  # Number of training epochs\n",
    "    batch_size=16,  # Batch size\n",
    "    label_encoder=label_encoder,\n",
    ")"
   ]
  },
  {
   "cell_type": "code",
   "execution_count": 47,
   "id": "1a777302",
   "metadata": {
    "execution": {
     "iopub.status.busy": "2025-09-08T20:15:03.822195Z",
     "iopub.status.idle": "2025-09-08T20:15:03.822596Z",
     "shell.execute_reply": "2025-09-08T20:15:03.822426Z",
     "shell.execute_reply.started": "2025-09-08T20:15:03.822408Z"
    },
    "trusted": true
   },
   "outputs": [],
   "source": [
    "def mask_text(text, location):\n",
    "    \"\"\"\n",
    "    Replace the token at the specified location with [MASK].\n",
    "    \"\"\"\n",
    "    tokens = text.split()\n",
    "    if 0 <= location < len(tokens):\n",
    "        tokens[location] = \"[MASK]\"\n",
    "    else:\n",
    "        raise ValueError(f\"Location {location} is out of bounds for text: {text}\")\n",
    "    return \" \".join(tokens)\n",
    "\n",
    "\n",
    "def predict_expansion(text, location, tokenizer, model, device, top_k=5):\n",
    "\n",
    "    # Mask the abbreviation in the text\n",
    "    masked_text = mask_text(text, location)\n",
    "\n",
    "    # Tokenize the input\n",
    "    inputs = tokenizer(masked_text, return_tensors=\"pt\", padding=True, truncation=True)\n",
    "    input_ids = inputs[\"input_ids\"].to(device)\n",
    "    attention_mask = inputs[\"attention_mask\"].to(device)\n",
    "\n",
    "    # Predict the masked token\n",
    "    with torch.no_grad():\n",
    "        outputs = model(input_ids=input_ids, attention_mask=attention_mask)\n",
    "        logits = outputs.logits\n",
    "\n",
    "    # Find the position of the [MASK] token\n",
    "    mask_token_index = torch.where(input_ids == tokenizer.mask_token_id)[1]\n",
    "\n",
    "    # Get top k predictions for the [MASK] token\n",
    "    mask_token_logits = logits[0, mask_token_index, :]\n",
    "    top_k_tokens = torch.topk(mask_token_logits, top_k, dim=1).indices[0].tolist()\n",
    "\n",
    "    # Decode predictions\n",
    "    predictions = [tokenizer.decode([token_id]).strip() for token_id in top_k_tokens]\n",
    "\n",
    "    return {\n",
    "        \"original_text\": text,\n",
    "        \"masked_text\": masked_text,\n",
    "        \"predictions\": predictions,\n",
    "    }"
   ]
  },
  {
   "cell_type": "code",
   "execution_count": 49,
   "id": "9be74d5e",
   "metadata": {
    "execution": {
     "iopub.status.busy": "2025-09-08T20:15:03.823963Z",
     "iopub.status.idle": "2025-09-08T20:15:03.824259Z",
     "shell.execute_reply": "2025-09-08T20:15:03.824113Z",
     "shell.execute_reply.started": "2025-09-08T20:15:03.824101Z"
    },
    "trusted": true
   },
   "outputs": [
    {
     "name": "stderr",
     "output_type": "stream",
     "text": [
      "Some weights of BertForMaskedLM were not initialized from the model checkpoint at fine_tuned_medal and are newly initialized: ['cls.predictions.bias', 'cls.predictions.decoder.bias', 'cls.predictions.transform.LayerNorm.bias', 'cls.predictions.transform.LayerNorm.weight', 'cls.predictions.transform.dense.bias', 'cls.predictions.transform.dense.weight']\n",
      "You should probably TRAIN this model on a down-stream task to be able to use it for predictions and inference.\n"
     ]
    },
    {
     "data": {
      "text/plain": [
       "BertForMaskedLM(\n",
       "  (bert): BertModel(\n",
       "    (embeddings): BertEmbeddings(\n",
       "      (word_embeddings): Embedding(30522, 768, padding_idx=0)\n",
       "      (position_embeddings): Embedding(512, 768)\n",
       "      (token_type_embeddings): Embedding(2, 768)\n",
       "      (LayerNorm): LayerNorm((768,), eps=1e-12, elementwise_affine=True)\n",
       "      (dropout): Dropout(p=0.1, inplace=False)\n",
       "    )\n",
       "    (encoder): BertEncoder(\n",
       "      (layer): ModuleList(\n",
       "        (0-11): 12 x BertLayer(\n",
       "          (attention): BertAttention(\n",
       "            (self): BertSdpaSelfAttention(\n",
       "              (query): Linear(in_features=768, out_features=768, bias=True)\n",
       "              (key): Linear(in_features=768, out_features=768, bias=True)\n",
       "              (value): Linear(in_features=768, out_features=768, bias=True)\n",
       "              (dropout): Dropout(p=0.1, inplace=False)\n",
       "            )\n",
       "            (output): BertSelfOutput(\n",
       "              (dense): Linear(in_features=768, out_features=768, bias=True)\n",
       "              (LayerNorm): LayerNorm((768,), eps=1e-12, elementwise_affine=True)\n",
       "              (dropout): Dropout(p=0.1, inplace=False)\n",
       "            )\n",
       "          )\n",
       "          (intermediate): BertIntermediate(\n",
       "            (dense): Linear(in_features=768, out_features=3072, bias=True)\n",
       "            (intermediate_act_fn): GELUActivation()\n",
       "          )\n",
       "          (output): BertOutput(\n",
       "            (dense): Linear(in_features=3072, out_features=768, bias=True)\n",
       "            (LayerNorm): LayerNorm((768,), eps=1e-12, elementwise_affine=True)\n",
       "            (dropout): Dropout(p=0.1, inplace=False)\n",
       "          )\n",
       "        )\n",
       "      )\n",
       "    )\n",
       "  )\n",
       "  (cls): BertOnlyMLMHead(\n",
       "    (predictions): BertLMPredictionHead(\n",
       "      (transform): BertPredictionHeadTransform(\n",
       "        (dense): Linear(in_features=768, out_features=768, bias=True)\n",
       "        (transform_act_fn): GELUActivation()\n",
       "        (LayerNorm): LayerNorm((768,), eps=1e-12, elementwise_affine=True)\n",
       "      )\n",
       "      (decoder): Linear(in_features=768, out_features=30522, bias=True)\n",
       "    )\n",
       "  )\n",
       ")"
      ]
     },
     "execution_count": 49,
     "metadata": {},
     "output_type": "execute_result"
    }
   ],
   "source": [
    "from transformers import AutoModelForMaskedLM\n",
    "\n",
    "tokenizer = AutoTokenizer.from_pretrained(output_dir)\n",
    "model = AutoModelForMaskedLM.from_pretrained(output_dir)\n",
    "device = torch.device(\"cuda\" if torch.cuda.is_available() else \"cpu\")\n",
    "model.to(device)"
   ]
  },
  {
   "cell_type": "code",
   "execution_count": null,
   "id": "7f286045",
   "metadata": {},
   "outputs": [],
   "source": []
  },
  {
   "cell_type": "code",
   "execution_count": 51,
   "id": "8b2d05c6",
   "metadata": {
    "execution": {
     "iopub.status.busy": "2025-09-08T20:15:03.824855Z",
     "iopub.status.idle": "2025-09-08T20:15:03.825152Z",
     "shell.execute_reply": "2025-09-08T20:15:03.825005Z",
     "shell.execute_reply.started": "2025-09-08T20:15:03.824991Z"
    },
    "trusted": true
   },
   "outputs": [
    {
     "name": "stdout",
     "output_type": "stream",
     "text": [
      "=== Prediction Results ===\n",
      "Original Text: a new human EA glycoprotein has been identified by immunoblotting with mu monoclonal antibodies under nonreducing conditions the glycoprotein has a mw of and carries cromerrelated blood group antigens the monoclonal antibodies also react with normal IP blood leucocytes and platelets and several haemopoietic cell lines the glycoprotein has a reduced mw T3 sialidase treatment the mw is markedly reduced in tn ghosts and slightly increased in cad ghosts these results suggest that the glycoprotein has a substantial content of oglycans the glycoprotein appears to be absent from or grossly altered in the erythrocytes of two individuals with the rare inab phenotype\n",
      "Masked Text: a new human EA glycoprotein has been identified by immunoblotting with mu monoclonal antibodies under nonreducing conditions the glycoprotein has a mw of and carries cromerrelated blood group antigens the monoclonal antibodies also react with normal IP blood leucocytes and platelets and several haemopoietic cell lines the glycoprotein has a reduced mw T3 sialidase treatment the mw is markedly reduced in tn ghosts and slightly increased in cad [MASK] these results suggest that the glycoprotein has a substantial content of oglycans the glycoprotein appears to be absent from or grossly altered in the erythrocytes of two individuals with the rare inab phenotype\n",
      "Top Predictions: ['##tok', 'mri', 'hutchinson', 'bearing', '##bba']\n",
      "\n",
      "Original Text: a new human EA glycoprotein has been identified by immunoblotting with mu monoclonal antibodies under nonreducing conditions the glycoprotein has a mw of and carries cromerrelated blood group antigens the monoclonal antibodies also react with normal IP blood leucocytes and platelets and several haemopoietic cell lines the glycoprotein has a reduced mw T3 sialidase treatment the mw is markedly reduced in tn ghosts and slightly increased in cad ghosts these results suggest that the glycoprotein has a substantial content of oglycans the glycoprotein appears to be absent from or grossly altered in the erythrocytes of two individuals with the rare inab phenotype\n",
      "Masked Text: a new human EA glycoprotein has been identified by immunoblotting with mu monoclonal antibodies under nonreducing conditions the glycoprotein has a mw of and carries cromerrelated blood group antigens the monoclonal antibodies also react with normal IP blood leucocytes and platelets and several haemopoietic cell lines the glycoprotein has a reduced mw T3 sialidase treatment the mw is markedly reduced in tn ghosts and slightly increased in cad [MASK] these results suggest that the glycoprotein has a substantial content of oglycans the glycoprotein appears to be absent from or grossly altered in the erythrocytes of two individuals with the rare inab phenotype\n",
      "Top Predictions: ['##tok', 'mri', 'hutchinson', 'bearing', '##bba']\n"
     ]
    }
   ],
   "source": [
    "# Step 3: Predict Abbreviation Expansion\n",
    "example_text = \"a new human EA glycoprotein has been identified by immunoblotting with mu monoclonal antibodies under nonreducing conditions the glycoprotein has a mw of and carries cromerrelated blood group antigens the monoclonal antibodies also react with normal IP blood leucocytes and platelets and several haemopoietic cell lines the glycoprotein has a reduced mw T3 sialidase treatment the mw is markedly reduced in tn ghosts and slightly increased in cad ghosts these results suggest that the glycoprotein has a substantial content of oglycans the glycoprotein appears to be absent from or grossly altered in the erythrocytes of two individuals with the rare inab phenotype\"\n",
    "abbreviation_location = 68\n",
    "result = predict_expansion(\n",
    "    text=example_text,\n",
    "    location=abbreviation_location,\n",
    "    tokenizer=tokenizer,\n",
    "    model=model,\n",
    "    device=device,\n",
    "    top_k=5,  # Number of top predictions to return\n",
    ")\n",
    "\n",
    "# Display Results\n",
    "print(\"=== Prediction Results ===\")\n",
    "print(f\"Original Text: {result['original_text']}\")\n",
    "print(f\"Masked Text: {result['masked_text']}\")\n",
    "print(f\"Top Predictions: {result['predictions']}\")"
   ]
  }
 ],
 "metadata": {
  "kaggle": {
   "accelerator": "nvidiaTeslaT4",
   "dataSources": [
    {
     "datasetId": 965195,
     "sourceId": 1651976,
     "sourceType": "datasetVersion"
    }
   ],
   "dockerImageVersionId": 31089,
   "isGpuEnabled": true,
   "isInternetEnabled": true,
   "language": "python",
   "sourceType": "notebook"
  },
  "kernelspec": {
   "display_name": "dlmlenv",
   "language": "python",
   "name": "python3"
  },
  "language_info": {
   "codemirror_mode": {
    "name": "ipython",
    "version": 3
   },
   "file_extension": ".py",
   "mimetype": "text/x-python",
   "name": "python",
   "nbconvert_exporter": "python",
   "pygments_lexer": "ipython3",
   "version": "3.13.5"
  }
 },
 "nbformat": 4,
 "nbformat_minor": 5
}
