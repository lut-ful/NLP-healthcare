{
 "cells": [
  {
   "cell_type": "code",
   "execution_count": null,
   "id": "01ea837e",
   "metadata": {},
   "outputs": [],
   "source": [
    "import pandas as pd\n",
    "from datasets import Dataset, DatasetDict,load_from_disk,load_dataset"
   ]
  },
  {
   "cell_type": "code",
   "execution_count": null,
   "id": "43155a92",
   "metadata": {},
   "outputs": [],
   "source": [
    "dataset_path = \"medal_dataset\"\n",
    "# dataset = load_from_disk(dataset_path)\n",
    "\n",
    "dataset = load_dataset(\"lutful2004/MeDAL-dataset\")\n"
   ]
  },
  {
   "cell_type": "code",
   "execution_count": null,
   "id": "ca6dc8a0",
   "metadata": {},
   "outputs": [],
   "source": [
    "from datasets import ClassLabel\n",
    "\n",
    "# get unique labels\n",
    "unique_labels = set()\n",
    "for split in dataset.keys():\n",
    "    # Convert to list first to make it hashable\n",
    "    unique_labels.update(dataset[split][\"LABEL\"])\n",
    "unique_labels = sorted(unique_labels)\n",
    "\n",
    "# create ClassLabel feature\n",
    "label_class = ClassLabel(num_classes=len(unique_labels), names=unique_labels)\n"
   ]
  },
  {
   "cell_type": "code",
   "execution_count": null,
   "id": "f5384ab2",
   "metadata": {},
   "outputs": [],
   "source": [
    "# cast the LABEL column\n",
    "dataset = dataset.cast_column(\"LABEL\", label_class)\n",
    "\n",
    "# now you can do stratified sampling\n",
    "sampled = DatasetDict({\n",
    "    \"train\": dataset[\"train\"].train_test_split(\n",
    "        train_size=0.1, stratify_by_column=\"LABEL\", seed=42\n",
    "    )[\"train\"],\n",
    "    \"test\": dataset[\"test\"].train_test_split(\n",
    "        train_size=0.1, stratify_by_column=\"LABEL\", seed=42\n",
    "    )[\"train\"],\n",
    "    \"valid\": dataset[\"valid\"].train_test_split(\n",
    "        train_size=0.1, stratify_by_column=\"LABEL\", seed=42\n",
    "    )[\"train\"],\n",
    "})\n",
    "\n",
    "print(sampled)\n"
   ]
  },
  {
   "cell_type": "code",
   "execution_count": null,
   "id": "e3093abb",
   "metadata": {},
   "outputs": [],
   "source": [
    "from huggingface_hub import notebook_login\n",
    "\n",
    "# # Create a smaller version of the dataset for easier upload\n",
    "# small_medal_dataset = DatasetDict({\n",
    "#     \"train\": train_dataset.select(range(10000)),\n",
    "#     \"test\": test_dataset.select(range(1000)),\n",
    "#     \"valid\": valid_dataset.select(range(1000))\n",
    "# })\n",
    "\n",
    "# Import required libraries\n",
    "\n",
    "# Login to Huggingface Hub\n",
    "notebook_login()\n",
    "\n",
    "# Push to hub\n",
    "sampled.push_to_hub(\n",
    "    \"lutful2004/MeDAL-dataset-small\",\n",
    "    private=False,  # Set to True if you want a private dataset\n",
    "    token=None  # Will use the token from notebook_login\n",
    ")\n",
    "\n",
    "print(\"Dataset uploaded successfully to Huggingface Hub\")"
   ]
  }
 ],
 "metadata": {
  "kernelspec": {
   "display_name": "dlmlenv",
   "language": "python",
   "name": "python3"
  },
  "language_info": {
   "codemirror_mode": {
    "name": "ipython",
    "version": 3
   },
   "file_extension": ".py",
   "mimetype": "text/x-python",
   "name": "python",
   "nbconvert_exporter": "python",
   "pygments_lexer": "ipython3",
   "version": "3.13.5"
  }
 },
 "nbformat": 4,
 "nbformat_minor": 5
}
