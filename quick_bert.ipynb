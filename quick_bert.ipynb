{
 "cells": [
  {
   "cell_type": "code",
   "execution_count": null,
   "id": "5508361f",
   "metadata": {},
   "outputs": [],
   "source": [
    "from datasets import Dataset \n",
    "from transformers import BertTokenizer, BertForSequenceClassification, TrainingArguments\n",
    "from transformers import AutoTokenizer\n",
    "import torch\n",
    "import pandas as pd\n",
    "import evaluate\n"
   ]
  },
  {
   "cell_type": "code",
   "execution_count": null,
   "id": "0ab91ee7",
   "metadata": {},
   "outputs": [],
   "source": [
    "from datasets import load_dataset\n",
    "dataset=load_dataset(\"lutful2004/MeDAL-small-data\")\n",
    "# Access the 'train' split and convert to DataFrame\n",
    "full_data=dataset['train'].to_pandas()\n",
    "# full_data = pd.read_csv(r\"smaller_datasets/full_data_small.csv\")\n",
    "sample=full_data[:200]"
   ]
  },
  {
   "cell_type": "code",
   "execution_count": null,
   "id": "104cdd9b",
   "metadata": {},
   "outputs": [],
   "source": [
    "def expand_dataset(df):\n",
    "    rows = []  # Use a different name for the list to collect new rows\n",
    "    for _, row_data in df.iterrows():\n",
    "        text = row_data['TEXT']\n",
    "        labels = row_data['LABEL'].split(\"|\")\n",
    "        locations = row_data['LOCATION'].split(\"|\")\n",
    "        tokens = text.split()\n",
    "        for loc, label in zip(locations, labels):\n",
    "            try:\n",
    "                idx = int(loc)\n",
    "                if 0 <= idx < len(tokens):\n",
    "                    token = tokens[idx]\n",
    "                    rows.append((text, loc, token, label))\n",
    "            except ValueError:\n",
    "                # Skip if location is not a valid integer\n",
    "                continue\n",
    "    return pd.DataFrame(rows, columns=['TEXT', 'LOCATION', 'ABBREV', 'LABEL'])\n",
    "\n",
    "sample= expand_dataset(sample)"
   ]
  },
  {
   "cell_type": "code",
   "execution_count": null,
   "id": "4742a8f4",
   "metadata": {},
   "outputs": [],
   "source": [
    "sample.columns"
   ]
  },
  {
   "cell_type": "code",
   "execution_count": null,
   "id": "70342edb",
   "metadata": {},
   "outputs": [],
   "source": [
    "# labele mapper\n",
    "label2id={label: i for i,label in enumerate(sample['LABEL'].unique())}\n",
    "sample[\"LABEL_ID\"]=sample[\"LABEL\"].map((label2id))"
   ]
  },
  {
   "cell_type": "code",
   "execution_count": null,
   "id": "3cf0cffb",
   "metadata": {},
   "outputs": [],
   "source": [
    "# insert entity markers \n",
    "def insert_entity_markers(row):\n",
    "    loc=int(row[\"LOCATION\"])\n",
    "    abbr=row[\"ABBREV\"]\n",
    "    text=row[\"TEXT\"]\n",
    "    splited_text=text.split(\" \")\n",
    "    marked_text = splited_text[:loc] + [\"[E1]\"] + splited_text[loc:loc+1]+ [\"[/E1]\"] + splited_text[loc+1:]\n",
    "    row[\"marked_text\"]=\" \".join(marked_text)\n",
    "    row[\"labels\"]=row[\"LABEL_ID\"]\n",
    "    return row\n",
    "\n",
    "dataset=Dataset.from_pandas(sample)\n",
    "dataset=dataset.map(insert_entity_markers)\n"
   ]
  },
  {
   "cell_type": "code",
   "execution_count": null,
   "id": "0afdb0e7",
   "metadata": {},
   "outputs": [],
   "source": [
    "checkpoint=\"bert-base-uncased\""
   ]
  },
  {
   "cell_type": "code",
   "execution_count": null,
   "id": "66091fd0",
   "metadata": {},
   "outputs": [],
   "source": [
    "tokenizer = AutoTokenizer.from_pretrained(checkpoint)\n",
    "tokenizer.add_special_tokens({\"additional_special_tokens\": [\"[E1]\", \"[/E1]\"]})\n",
    "def tokenize_fn(row):\n",
    "    return tokenizer(row[\"marked_text\"], padding=\"max_length\", truncation=True, max_length=256)\n",
    "\n",
    "tokenized_dataset = dataset.map(tokenize_fn, batched=True)"
   ]
  },
  {
   "cell_type": "code",
   "execution_count": null,
   "id": "cf36af35",
   "metadata": {},
   "outputs": [],
   "source": [
    "tokenized_dataset"
   ]
  },
  {
   "cell_type": "code",
   "execution_count": null,
   "id": "b4c0e5b1",
   "metadata": {},
   "outputs": [],
   "source": [
    "for key in tokenized_dataset.features.keys():\n",
    "    print(f\"{key}: {tokenized_dataset[key][0]}\")\n"
   ]
  },
  {
   "cell_type": "code",
   "execution_count": null,
   "id": "e6032dcd",
   "metadata": {},
   "outputs": [],
   "source": [
    "# # Get the vocabulary\n",
    "# # To see special tokens\n",
    "# print(\"Special tokens:\", tokenizer.special_tokens_map)\n",
    "# print(\"\\nAdded special tokens:\", tokenizer.additional_special_tokens)\n",
    "\n",
    "# # To see vocab size\n",
    "# print(\"\\nVocabulary size:\", len(tokenizer))\n",
    "\n",
    "# # To see how the tokenizer handles our entity markers\n",
    "# example = \"This is an [E1] example [/E1] sentence.\"\n",
    "# encoded = tokenizer(example)\n",
    "# print(\"\\nEncoded:\", encoded)\n",
    "# print(\"\\nDecoded:\", tokenizer.decode(encoded[\"input_ids\"]))"
   ]
  },
  {
   "cell_type": "code",
   "execution_count": null,
   "id": "4de1fafd",
   "metadata": {},
   "outputs": [],
   "source": [
    "# # Get the vocabulary\n",
    "# # To see special tokens\n",
    "# print(\"Special tokens:\", tokenizer.special_tokens_map)\n",
    "# print(\"\\nAdded special tokens:\", tokenizer.additional_special_tokens)\n",
    "\n",
    "# # To see vocab size\n",
    "# print(\"\\nVocabulary size:\", len(tokenizer))\n",
    "\n",
    "# # To see how the tokenizer handles our entity markers\n",
    "# example = \"[E1] [/E1]\"\n",
    "# encoded = tokenizer(example)\n",
    "# print(\"\\nEncoded:\", encoded)\n",
    "# print(\"\\nDecoded:\", tokenizer.decode(encoded[\"input_ids\"]))"
   ]
  },
  {
   "cell_type": "code",
   "execution_count": null,
   "id": "51257240",
   "metadata": {},
   "outputs": [],
   "source": [
    "len(tokenizer)"
   ]
  },
  {
   "cell_type": "code",
   "execution_count": null,
   "id": "4ebad7ae",
   "metadata": {},
   "outputs": [],
   "source": [
    "tokenizer.get_special_tokens_mask"
   ]
  },
  {
   "cell_type": "code",
   "execution_count": null,
   "id": "fe93d4ce",
   "metadata": {},
   "outputs": [],
   "source": [
    "from transformers import AutoModel\n",
    "model=AutoModel.from_pretrained(checkpoint,label2id=label2id)\n",
    "model.resize_token_embeddings(len(tokenizer))"
   ]
  },
  {
   "cell_type": "code",
   "execution_count": null,
   "id": "8b03649b",
   "metadata": {},
   "outputs": [],
   "source": [
    "import evaluate\n",
    "\n",
    "metric = evaluate.load(\"accuracy\")\n",
    "\n",
    "def compute_metrics(eval_pred):\n",
    "    logits, labels = eval_pred\n",
    "    predictions = logits.argmax(axis=-1)\n",
    "    return metric.compute(predictions=predictions, references=labels)"
   ]
  },
  {
   "cell_type": "code",
   "execution_count": null,
   "id": "7f15e7f1",
   "metadata": {},
   "outputs": [],
   "source": [
    "from transformers import Trainer, BertForSequenceClassification\n",
    "\n",
    "# Replace the base BERT model with a classification-specific one\n",
    "model = BertForSequenceClassification.from_pretrained(\n",
    "    checkpoint, \n",
    "    num_labels=len(label2id),\n",
    "    id2label={v: k for k, v in label2id.items()},\n",
    "    label2id=label2id\n",
    ")\n",
    "model.resize_token_embeddings(len(tokenizer))\n",
    "\n",
    "training_args = TrainingArguments(\n",
    "    output_dir=\"./label_classification\",\n",
    "    num_train_epochs=3,\n",
    "    per_device_train_batch_size=4,\n",
    "    logging_steps=5,\n",
    "    save_steps=50,\n",
    "    learning_rate=5e-5, \n",
    "    weight_decay=0.01,\n",
    "    do_eval=False\n",
    ")\n",
    "\n",
    "trainer = Trainer(\n",
    "    model=model,\n",
    "    args=training_args,\n",
    "    train_dataset=tokenized_dataset,\n",
    "    tokenizer=tokenizer,\n",
    "    compute_metrics=compute_metrics\n",
    ")\n",
    "trainer.train()"
   ]
  },
  {
   "cell_type": "code",
   "execution_count": null,
   "id": "f93ad6b9",
   "metadata": {},
   "outputs": [],
   "source": []
  }
 ],
 "metadata": {
  "kernelspec": {
   "display_name": "dlmlenv",
   "language": "python",
   "name": "python3"
  },
  "language_info": {
   "codemirror_mode": {
    "name": "ipython",
    "version": 3
   },
   "file_extension": ".py",
   "mimetype": "text/x-python",
   "name": "python",
   "nbconvert_exporter": "python",
   "pygments_lexer": "ipython3",
   "version": "3.13.5"
  }
 },
 "nbformat": 4,
 "nbformat_minor": 5
}
